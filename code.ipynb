{
 "cells": [
  {
   "cell_type": "markdown",
   "metadata": {},
   "source": [
    "### 1. Create a function in python to read the text file and replace specific content of the file.\n"
   ]
  },
  {
   "cell_type": "code",
   "execution_count": 5,
   "metadata": {},
   "outputs": [
    {
     "name": "stdout",
     "output_type": "stream",
     "text": [
      "This is a screening assignment\n"
     ]
    }
   ],
   "source": [
    "def fun():\n",
    "    with open('example.txt','r') as f:\n",
    "        fileData=f.read()\n",
    "        fileData=fileData.replace(\"placement\",\"screening\")\n",
    "\n",
    "    with open('example.txt','w') as f:\n",
    "        f.write(fileData)\n",
    "    \n",
    "    with open('example.txt') as f1:\n",
    "        data=f1.read()\n",
    "        print(data)\n",
    "fun()"
   ]
  },
  {
   "cell_type": "markdown",
   "metadata": {},
   "source": [
    "### Demonstrate use of abstract class, multiple inheritance and decorator in python using examples."
   ]
  },
  {
   "cell_type": "markdown",
   "metadata": {},
   "source": [
    "### Multiple Inheritance"
   ]
  },
  {
   "cell_type": "code",
   "execution_count": 7,
   "metadata": {},
   "outputs": [
    {
     "name": "stdout",
     "output_type": "stream",
     "text": [
      "Name: Siva, Pay: 75000000, Exp: 1\n"
     ]
    }
   ],
   "source": [
    "class TeamMember():\n",
    "    def __init__(self,name,uid):\n",
    "        self.name=name\n",
    "        self.uid=uid\n",
    "\n",
    "class Worker():\n",
    "    def __init__(self,pay,jobtitle):\n",
    "        self.pay=pay\n",
    "        self.jobtitle=jobtitle\n",
    "\n",
    "class TeamLeader(TeamMember,Worker):\n",
    "    def __init__(self,name,uid,pay,jobtitle,exp):\n",
    "        self.exp=exp\n",
    "        TeamMember.__init__(self, name, uid) \n",
    "        Worker.__init__(self, pay, jobtitle)\n",
    "        print(\"Name: {}, Pay: {}, Exp: {}\".format(self.name, self.pay, self.exp))\n",
    "\n",
    "TL = TeamLeader('Thummala', 119014 , 75000000, 'Data Scientist', 1)"
   ]
  },
  {
   "cell_type": "markdown",
   "metadata": {},
   "source": [
    "### Decorator"
   ]
  },
  {
   "cell_type": "code",
   "execution_count": 8,
   "metadata": {},
   "outputs": [
    {
     "name": "stdout",
     "output_type": "stream",
     "text": [
      "[4, 20, 10, 13]\n"
     ]
    }
   ],
   "source": [
    "def decorator_list(fnc):\n",
    "    def inner(list_of_tuples):\n",
    "        return [fnc(val[0], val[1]) for val in list_of_tuples]\n",
    "    return inner\n",
    "\n",
    "\n",
    "@decorator_list\n",
    "def add_together(a, b):\n",
    "    return a + b\n",
    "\n",
    "\n",
    "print(add_together([(1, 3), (3, 17), (5, 5), (6, 7)]))"
   ]
  },
  {
   "cell_type": "markdown",
   "metadata": {},
   "source": [
    "### Abstract Classes"
   ]
  },
  {
   "cell_type": "code",
   "execution_count": 11,
   "metadata": {},
   "outputs": [
    {
     "name": "stdout",
     "output_type": "stream",
     "text": [
      "Welcome to bank\n",
      "Balance is 100\n",
      "In sbi bank interest is 5 rupees\n"
     ]
    }
   ],
   "source": [
    "from abc import ABC, abstractmethod\n",
    "\n",
    "# Abstract Class\n",
    "class Bank(ABC):\n",
    "   def bank_info(self):\n",
    "       print(\"Welcome to bank\")\n",
    "   @abstractmethod\n",
    "   def interest(self):\n",
    "       \"Abstarct Method\"\n",
    "       pass\n",
    "# Child class of abstract class\n",
    "class SBI(Bank):\n",
    "\n",
    "   def balance(self):\n",
    "       print(\"Balance is 100\")\n",
    "\n",
    "class Sub1(SBI):\n",
    "   def interest(self):\n",
    "       print(\"In sbi bank interest is 5 rupees\")\n",
    "\n",
    "s= Sub1()\n",
    "s.bank_info ()\n",
    "s.balance()\n",
    "s.interest()"
   ]
  },
  {
   "cell_type": "code",
   "execution_count": null,
   "metadata": {},
   "outputs": [],
   "source": []
  }
 ],
 "metadata": {
  "interpreter": {
   "hash": "5109d816b82be14675a6b11f8e0f0d2e80f029176ed3710d54e125caa8520dfd"
  },
  "kernelspec": {
   "display_name": "Python 3.7.9 64-bit",
   "language": "python",
   "name": "python3"
  },
  "language_info": {
   "codemirror_mode": {
    "name": "ipython",
    "version": 3
   },
   "file_extension": ".py",
   "mimetype": "text/x-python",
   "name": "python",
   "nbconvert_exporter": "python",
   "pygments_lexer": "ipython3",
   "version": "3.7.9"
  },
  "orig_nbformat": 4
 },
 "nbformat": 4,
 "nbformat_minor": 2
}
